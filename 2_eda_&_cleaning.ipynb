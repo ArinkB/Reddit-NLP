{
 "cells": [
  {
   "cell_type": "markdown",
   "metadata": {},
   "source": [
    "# Reddit Subreddit Clean-up & EDA\n",
    "\n",
    "#### Jump To:\n",
    "- [Reading & Assessing our Dataset](#Asses)\n",
    "- [Cleaning](#clean)\n",
    "- [Combine Subreddit DataFrames](#combine)\n",
    "- [Count Vectorizer](#count)\n",
    "- [Save for Modeling](#save)"
   ]
  },
  {
   "cell_type": "code",
   "execution_count": 1,
   "metadata": {},
   "outputs": [],
   "source": [
    "# my needed imports\n",
    "import numpy as np\n",
    "import pandas as pd\n",
    "\n",
    "import matplotlib.pyplot as plt\n",
    "import seaborn as sns\n",
    "%matplotlib inline\n",
    "\n",
    "from sklearn.feature_extraction.text import CountVectorizer\n",
    "from sklearn.feature_extraction import text # to add more stopwords\n",
    "\n",
    "pd.options.display.max_colwidth = 400 # setting to display up to 400 characters in a column"
   ]
  },
  {
   "cell_type": "markdown",
   "metadata": {},
   "source": [
    "<a id='Asses'></a> \n",
    "## Importing \n",
    "Import the created CSVs from our post acquisition notebook, One CSV contains 9k posts while the other contains 7k, that's because I noticed in the 'AmITheAsshole' subreddit that there were alot of user and mod removed posts that still made it through the filter, to play it on the safe side and prevent unnecessary extra pulls, I pulled in more on this one compared to 'JustNoMIL'."
   ]
  },
  {
   "cell_type": "code",
   "execution_count": 2,
   "metadata": {},
   "outputs": [],
   "source": [
    "ami = pd.read_csv('./data/AmITheAsshole.csv', index_col=0)\n",
    "justno = pd.read_csv('./data/JustNoMIL.csv', index_col=0)"
   ]
  },
  {
   "cell_type": "code",
   "execution_count": 3,
   "metadata": {},
   "outputs": [
    {
     "data": {
      "text/html": [
       "<div>\n",
       "<style scoped>\n",
       "    .dataframe tbody tr th:only-of-type {\n",
       "        vertical-align: middle;\n",
       "    }\n",
       "\n",
       "    .dataframe tbody tr th {\n",
       "        vertical-align: top;\n",
       "    }\n",
       "\n",
       "    .dataframe thead th {\n",
       "        text-align: right;\n",
       "    }\n",
       "</style>\n",
       "<table border=\"1\" class=\"dataframe\">\n",
       "  <thead>\n",
       "    <tr style=\"text-align: right;\">\n",
       "      <th></th>\n",
       "      <th>author</th>\n",
       "      <th>title</th>\n",
       "      <th>selftext</th>\n",
       "      <th>subreddit</th>\n",
       "    </tr>\n",
       "  </thead>\n",
       "  <tbody>\n",
       "    <tr>\n",
       "      <th>0</th>\n",
       "      <td>[deleted]</td>\n",
       "      <td>AITA For Not Allowing My Son Near My Foster Brother</td>\n",
       "      <td>NaN</td>\n",
       "      <td>AmItheAsshole</td>\n",
       "    </tr>\n",
       "    <tr>\n",
       "      <th>1</th>\n",
       "      <td>[deleted]</td>\n",
       "      <td>AITA For Removing My Comments And Blocking A (ex)Friend</td>\n",
       "      <td>[deleted]</td>\n",
       "      <td>AmItheAsshole</td>\n",
       "    </tr>\n",
       "    <tr>\n",
       "      <th>2</th>\n",
       "      <td>CantSeemToFindAName</td>\n",
       "      <td>AITA for calling in sick after a heated argument wiht my Coworker?</td>\n",
       "      <td>[removed]</td>\n",
       "      <td>AmItheAsshole</td>\n",
       "    </tr>\n",
       "    <tr>\n",
       "      <th>3</th>\n",
       "      <td>Ed4434</td>\n",
       "      <td>AITA for asking my partner to cancel plans with her friend because I wanted to do with her the thing she had planned to do with her friend?</td>\n",
       "      <td>I (26/M) have been dealing with bipolar depression recently and haven't been as cheerful as usual and I know this is taking a toll on my partner (22/F). She has a male friend with whom she spends a lot of time, and I am fine with this. In fact, I encourage her to do so, so that she doesn't feel like she needs to spend all her time with me, lest she get bored or start to resent me.\\n\\nYesterday...</td>\n",
       "      <td>AmItheAsshole</td>\n",
       "    </tr>\n",
       "    <tr>\n",
       "      <th>4</th>\n",
       "      <td>IgorJustSomebody</td>\n",
       "      <td>AITA for lying to my mom about praying and believing in God</td>\n",
       "      <td>So I'm 19M and have issues with my family if you can guess. When I was little, my mom always used to teach me prayers and read Kid's Bible to me (I don't know what this is called or if it exists in English, but it's basically stories from the Bible with illustrations). My mom also made me, well I agreed at that time but she was the person who always pushed me, to be in Church choir. I sung in ...</td>\n",
       "      <td>AmItheAsshole</td>\n",
       "    </tr>\n",
       "  </tbody>\n",
       "</table>\n",
       "</div>"
      ],
      "text/plain": [
       "                author  \\\n",
       "0            [deleted]   \n",
       "1            [deleted]   \n",
       "2  CantSeemToFindAName   \n",
       "3               Ed4434   \n",
       "4     IgorJustSomebody   \n",
       "\n",
       "                                                                                                                                         title  \\\n",
       "0                                                                                          AITA For Not Allowing My Son Near My Foster Brother   \n",
       "1                                                                                      AITA For Removing My Comments And Blocking A (ex)Friend   \n",
       "2                                                                           AITA for calling in sick after a heated argument wiht my Coworker?   \n",
       "3  AITA for asking my partner to cancel plans with her friend because I wanted to do with her the thing she had planned to do with her friend?   \n",
       "4                                                                                  AITA for lying to my mom about praying and believing in God   \n",
       "\n",
       "                                                                                                                                                                                                                                                                                                                                                                                                          selftext  \\\n",
       "0                                                                                                                                                                                                                                                                                                                                                                                                              NaN   \n",
       "1                                                                                                                                                                                                                                                                                                                                                                                                        [deleted]   \n",
       "2                                                                                                                                                                                                                                                                                                                                                                                                        [removed]   \n",
       "3  I (26/M) have been dealing with bipolar depression recently and haven't been as cheerful as usual and I know this is taking a toll on my partner (22/F). She has a male friend with whom she spends a lot of time, and I am fine with this. In fact, I encourage her to do so, so that she doesn't feel like she needs to spend all her time with me, lest she get bored or start to resent me.\\n\\nYesterday...   \n",
       "4  So I'm 19M and have issues with my family if you can guess. When I was little, my mom always used to teach me prayers and read Kid's Bible to me (I don't know what this is called or if it exists in English, but it's basically stories from the Bible with illustrations). My mom also made me, well I agreed at that time but she was the person who always pushed me, to be in Church choir. I sung in ...   \n",
       "\n",
       "       subreddit  \n",
       "0  AmItheAsshole  \n",
       "1  AmItheAsshole  \n",
       "2  AmItheAsshole  \n",
       "3  AmItheAsshole  \n",
       "4  AmItheAsshole  "
      ]
     },
     "execution_count": 3,
     "metadata": {},
     "output_type": "execute_result"
    }
   ],
   "source": [
    "ami.head()"
   ]
  },
  {
   "cell_type": "code",
   "execution_count": 4,
   "metadata": {},
   "outputs": [
    {
     "data": {
      "text/html": [
       "<div>\n",
       "<style scoped>\n",
       "    .dataframe tbody tr th:only-of-type {\n",
       "        vertical-align: middle;\n",
       "    }\n",
       "\n",
       "    .dataframe tbody tr th {\n",
       "        vertical-align: top;\n",
       "    }\n",
       "\n",
       "    .dataframe thead th {\n",
       "        text-align: right;\n",
       "    }\n",
       "</style>\n",
       "<table border=\"1\" class=\"dataframe\">\n",
       "  <thead>\n",
       "    <tr style=\"text-align: right;\">\n",
       "      <th></th>\n",
       "      <th>author</th>\n",
       "      <th>title</th>\n",
       "      <th>selftext</th>\n",
       "      <th>subreddit</th>\n",
       "    </tr>\n",
       "  </thead>\n",
       "  <tbody>\n",
       "    <tr>\n",
       "      <th>0</th>\n",
       "      <td>Low_Potatoes</td>\n",
       "      <td>MIL says I'm the manipulative one?</td>\n",
       "      <td>Throwaway account to just vent my frustration with this women.\\n\\nMy MIL decided to tell my SO I'm the manipulative one is our weird three way relationship which I never consented to. Apparently, I manipulate him by staying over at his house and am going to be a moocher just like his past partner. She is delusional because I have my own place I pay rent as well. It would make no sense for me t...</td>\n",
       "      <td>JUSTNOMIL</td>\n",
       "    </tr>\n",
       "    <tr>\n",
       "      <th>1</th>\n",
       "      <td>throw-away1024123</td>\n",
       "      <td>How To Manage The Next 50 Years?</td>\n",
       "      <td>CW: sexual assault\\n\\nThrowaway because you never know where a flying monkey could be. TL;DR at the bottom. Sorry, this is loooong. \\n\\nI’ve been a lurker on this sub for a while, but recently things with my future JNMIL have been really upsetting me and I felt the urge to reach out to all of you here. \\n\\nFor some background, my fiancé and I have been together for over five years. I can still...</td>\n",
       "      <td>JUSTNOMIL</td>\n",
       "    </tr>\n",
       "    <tr>\n",
       "      <th>2</th>\n",
       "      <td>ThrowRA-Barber</td>\n",
       "      <td>I can't stop thinking about the time my mom didn't show up to support my dream.</td>\n",
       "      <td>My whole life, I had been struggling on finding a career path, it felt like i didn't have any talent or passion, so i bounced around for a few years. Mom convinced me to go to law or nursing, something \"Useful\", i did that. Until i found my true passion last year. Cooking. I just took a liking to it. It allowed me to express my creativity. \\n\\nIt made me happy and i was actually talented at it...</td>\n",
       "      <td>JUSTNOMIL</td>\n",
       "    </tr>\n",
       "    <tr>\n",
       "      <th>3</th>\n",
       "      <td>yikesduchess</td>\n",
       "      <td>The wedding went well! And a few other minor updates</td>\n",
       "      <td>As of Saturday, DH and I are married. The ceremony went well, everyone stayed outdoors and wore their masks, and it ended up being a lovely low-key day. \\n\\nDH told me after the reception that MIL tried to call him on his way to the wedding. She was crying and expressed regret that she wasn't going to be there... (As DH and I are fond of saying, \"my, my, isn't it time for the consequences of y...</td>\n",
       "      <td>JUSTNOMIL</td>\n",
       "    </tr>\n",
       "    <tr>\n",
       "      <th>4</th>\n",
       "      <td>TyrionsRedCoat</td>\n",
       "      <td>UPDATE: Melancholy Millicent and the Plague</td>\n",
       "      <td>THE BITCH MANAGED TO GIVE US A COLD.\\n\\nGod. Fucking. Dammit.\\n\\nDetails of Millicent's quarantine boundary stomping are in my prior post. Basically she wore a mask but was pouting about it and kept breaking our six-foot bubble we'd told her would be required for a visit. We didn't stay long and at this point, I don't want to see her again until we've both been vaccinated.\\n\\nWhen I wrote my i...</td>\n",
       "      <td>JUSTNOMIL</td>\n",
       "    </tr>\n",
       "  </tbody>\n",
       "</table>\n",
       "</div>"
      ],
      "text/plain": [
       "              author  \\\n",
       "0       Low_Potatoes   \n",
       "1  throw-away1024123   \n",
       "2     ThrowRA-Barber   \n",
       "3       yikesduchess   \n",
       "4     TyrionsRedCoat   \n",
       "\n",
       "                                                                             title  \\\n",
       "0                                               MIL says I'm the manipulative one?   \n",
       "1                                                 How To Manage The Next 50 Years?   \n",
       "2  I can't stop thinking about the time my mom didn't show up to support my dream.   \n",
       "3                             The wedding went well! And a few other minor updates   \n",
       "4                                      UPDATE: Melancholy Millicent and the Plague   \n",
       "\n",
       "                                                                                                                                                                                                                                                                                                                                                                                                          selftext  \\\n",
       "0  Throwaway account to just vent my frustration with this women.\\n\\nMy MIL decided to tell my SO I'm the manipulative one is our weird three way relationship which I never consented to. Apparently, I manipulate him by staying over at his house and am going to be a moocher just like his past partner. She is delusional because I have my own place I pay rent as well. It would make no sense for me t...   \n",
       "1  CW: sexual assault\\n\\nThrowaway because you never know where a flying monkey could be. TL;DR at the bottom. Sorry, this is loooong. \\n\\nI’ve been a lurker on this sub for a while, but recently things with my future JNMIL have been really upsetting me and I felt the urge to reach out to all of you here. \\n\\nFor some background, my fiancé and I have been together for over five years. I can still...   \n",
       "2  My whole life, I had been struggling on finding a career path, it felt like i didn't have any talent or passion, so i bounced around for a few years. Mom convinced me to go to law or nursing, something \"Useful\", i did that. Until i found my true passion last year. Cooking. I just took a liking to it. It allowed me to express my creativity. \\n\\nIt made me happy and i was actually talented at it...   \n",
       "3  As of Saturday, DH and I are married. The ceremony went well, everyone stayed outdoors and wore their masks, and it ended up being a lovely low-key day. \\n\\nDH told me after the reception that MIL tried to call him on his way to the wedding. She was crying and expressed regret that she wasn't going to be there... (As DH and I are fond of saying, \"my, my, isn't it time for the consequences of y...   \n",
       "4  THE BITCH MANAGED TO GIVE US A COLD.\\n\\nGod. Fucking. Dammit.\\n\\nDetails of Millicent's quarantine boundary stomping are in my prior post. Basically she wore a mask but was pouting about it and kept breaking our six-foot bubble we'd told her would be required for a visit. We didn't stay long and at this point, I don't want to see her again until we've both been vaccinated.\\n\\nWhen I wrote my i...   \n",
       "\n",
       "   subreddit  \n",
       "0  JUSTNOMIL  \n",
       "1  JUSTNOMIL  \n",
       "2  JUSTNOMIL  \n",
       "3  JUSTNOMIL  \n",
       "4  JUSTNOMIL  "
      ]
     },
     "execution_count": 4,
     "metadata": {},
     "output_type": "execute_result"
    }
   ],
   "source": [
    "justno.head()"
   ]
  },
  {
   "cell_type": "markdown",
   "metadata": {},
   "source": [
    "<a id ='clean'></a>\n",
    "## CLEANING"
   ]
  },
  {
   "cell_type": "markdown",
   "metadata": {},
   "source": [
    "#### Some Functions\n",
    "- Check dataframes' null values and describe in one\n",
    "- Drop rows, In these datasets since we are doing Natural Language Processing, it is not ideal to impute the missing values, so all missing values, will need to be dropped\n"
   ]
  },
  {
   "cell_type": "code",
   "execution_count": 5,
   "metadata": {},
   "outputs": [],
   "source": [
    "# Function to check each dataframe's null values and describe.\n",
    "\n",
    "def check_dfs(df):\n",
    "    desc = df.describe() # assign describe to variable\n",
    "    add_null = pd.concat([df.isnull().sum().rename('Nulls'),desc.T],axis=1) # concatinate nulls with describe\n",
    "    return add_null    \n",
    "\n",
    "# get the .describe of the dataframes\n",
    "# concatinate the isnull sums to the describe dataframe, the describe table will now be transposed to match the output of nulls\n",
    "# also renamed the new column as 'Nulls' bc it shows up as 0\n",
    "# set it on the columns axis"
   ]
  },
  {
   "cell_type": "code",
   "execution_count": 6,
   "metadata": {},
   "outputs": [
    {
     "data": {
      "text/html": [
       "<div>\n",
       "<style scoped>\n",
       "    .dataframe tbody tr th:only-of-type {\n",
       "        vertical-align: middle;\n",
       "    }\n",
       "\n",
       "    .dataframe tbody tr th {\n",
       "        vertical-align: top;\n",
       "    }\n",
       "\n",
       "    .dataframe thead th {\n",
       "        text-align: right;\n",
       "    }\n",
       "</style>\n",
       "<table border=\"1\" class=\"dataframe\">\n",
       "  <thead>\n",
       "    <tr style=\"text-align: right;\">\n",
       "      <th></th>\n",
       "      <th>Nulls</th>\n",
       "      <th>count</th>\n",
       "      <th>unique</th>\n",
       "      <th>top</th>\n",
       "      <th>freq</th>\n",
       "    </tr>\n",
       "  </thead>\n",
       "  <tbody>\n",
       "    <tr>\n",
       "      <th>author</th>\n",
       "      <td>0</td>\n",
       "      <td>9000</td>\n",
       "      <td>6950</td>\n",
       "      <td>[deleted]</td>\n",
       "      <td>407</td>\n",
       "    </tr>\n",
       "    <tr>\n",
       "      <th>title</th>\n",
       "      <td>0</td>\n",
       "      <td>9000</td>\n",
       "      <td>8654</td>\n",
       "      <td>AIs from AI Dungeon 2 to sexy to funny and one based wholly on Reddit!</td>\n",
       "      <td>7</td>\n",
       "    </tr>\n",
       "    <tr>\n",
       "      <th>selftext</th>\n",
       "      <td>259</td>\n",
       "      <td>8741</td>\n",
       "      <td>5538</td>\n",
       "      <td>[removed]</td>\n",
       "      <td>3039</td>\n",
       "    </tr>\n",
       "    <tr>\n",
       "      <th>subreddit</th>\n",
       "      <td>0</td>\n",
       "      <td>9000</td>\n",
       "      <td>1</td>\n",
       "      <td>AmItheAsshole</td>\n",
       "      <td>9000</td>\n",
       "    </tr>\n",
       "  </tbody>\n",
       "</table>\n",
       "</div>"
      ],
      "text/plain": [
       "           Nulls count unique  \\\n",
       "author         0  9000   6950   \n",
       "title          0  9000   8654   \n",
       "selftext     259  8741   5538   \n",
       "subreddit      0  9000      1   \n",
       "\n",
       "                                                                              top  \\\n",
       "author                                                                  [deleted]   \n",
       "title      AIs from AI Dungeon 2 to sexy to funny and one based wholly on Reddit!   \n",
       "selftext                                                                [removed]   \n",
       "subreddit                                                           AmItheAsshole   \n",
       "\n",
       "           freq  \n",
       "author      407  \n",
       "title         7  \n",
       "selftext   3039  \n",
       "subreddit  9000  "
      ]
     },
     "execution_count": 6,
     "metadata": {},
     "output_type": "execute_result"
    }
   ],
   "source": [
    "check_dfs(ami)"
   ]
  },
  {
   "cell_type": "code",
   "execution_count": 7,
   "metadata": {},
   "outputs": [
    {
     "data": {
      "text/html": [
       "<div>\n",
       "<style scoped>\n",
       "    .dataframe tbody tr th:only-of-type {\n",
       "        vertical-align: middle;\n",
       "    }\n",
       "\n",
       "    .dataframe tbody tr th {\n",
       "        vertical-align: top;\n",
       "    }\n",
       "\n",
       "    .dataframe thead th {\n",
       "        text-align: right;\n",
       "    }\n",
       "</style>\n",
       "<table border=\"1\" class=\"dataframe\">\n",
       "  <thead>\n",
       "    <tr style=\"text-align: right;\">\n",
       "      <th></th>\n",
       "      <th>Nulls</th>\n",
       "      <th>count</th>\n",
       "      <th>unique</th>\n",
       "      <th>top</th>\n",
       "      <th>freq</th>\n",
       "    </tr>\n",
       "  </thead>\n",
       "  <tbody>\n",
       "    <tr>\n",
       "      <th>author</th>\n",
       "      <td>0</td>\n",
       "      <td>7003</td>\n",
       "      <td>4402</td>\n",
       "      <td>[deleted]</td>\n",
       "      <td>131</td>\n",
       "    </tr>\n",
       "    <tr>\n",
       "      <th>title</th>\n",
       "      <td>2</td>\n",
       "      <td>7001</td>\n",
       "      <td>6941</td>\n",
       "      <td>BEC Megathread</td>\n",
       "      <td>4</td>\n",
       "    </tr>\n",
       "    <tr>\n",
       "      <th>selftext</th>\n",
       "      <td>61</td>\n",
       "      <td>6942</td>\n",
       "      <td>6241</td>\n",
       "      <td>[removed]</td>\n",
       "      <td>582</td>\n",
       "    </tr>\n",
       "    <tr>\n",
       "      <th>subreddit</th>\n",
       "      <td>4</td>\n",
       "      <td>6999</td>\n",
       "      <td>1</td>\n",
       "      <td>JUSTNOMIL</td>\n",
       "      <td>6999</td>\n",
       "    </tr>\n",
       "  </tbody>\n",
       "</table>\n",
       "</div>"
      ],
      "text/plain": [
       "           Nulls count unique             top  freq\n",
       "author         0  7003   4402       [deleted]   131\n",
       "title          2  7001   6941  BEC Megathread     4\n",
       "selftext      61  6942   6241       [removed]   582\n",
       "subreddit      4  6999      1       JUSTNOMIL  6999"
      ]
     },
     "execution_count": 7,
     "metadata": {},
     "output_type": "execute_result"
    }
   ],
   "source": [
    "check_dfs(justno)"
   ]
  },
  {
   "cell_type": "code",
   "execution_count": 8,
   "metadata": {},
   "outputs": [],
   "source": [
    "# Function to drop duplicates and to drop rows containing [removed] and [deleted], even though I added a filter to not\n",
    "# include moderator or user deleted rows some made it through the filter\n",
    "# drop posts made by AutoModerator\n",
    "# drop any Null rows\n",
    "\n",
    "def drop(df):\n",
    "    \n",
    "    df.dropna(inplace=True) # drop nulls\n",
    "    df.drop_duplicates(inplace=True) # drop duplicates\n",
    "    df.drop(df[(df['selftext'] == '[removed]') | (df['selftext'] == '[deleted]')].index, inplace=True) #drop removed/deleted\n",
    "    df.drop(df[(df['author'] == 'AutoModerator')].index, inplace=True) #drop posts by automoderator\n",
    "    \n",
    "    return check_dfs(df) # calls function again to get a final view of adjusted describe\n",
    "\n",
    "    "
   ]
  },
  {
   "cell_type": "code",
   "execution_count": 9,
   "metadata": {},
   "outputs": [
    {
     "data": {
      "text/html": [
       "<div>\n",
       "<style scoped>\n",
       "    .dataframe tbody tr th:only-of-type {\n",
       "        vertical-align: middle;\n",
       "    }\n",
       "\n",
       "    .dataframe tbody tr th {\n",
       "        vertical-align: top;\n",
       "    }\n",
       "\n",
       "    .dataframe thead th {\n",
       "        text-align: right;\n",
       "    }\n",
       "</style>\n",
       "<table border=\"1\" class=\"dataframe\">\n",
       "  <thead>\n",
       "    <tr style=\"text-align: right;\">\n",
       "      <th></th>\n",
       "      <th>Nulls</th>\n",
       "      <th>count</th>\n",
       "      <th>unique</th>\n",
       "      <th>top</th>\n",
       "      <th>freq</th>\n",
       "    </tr>\n",
       "  </thead>\n",
       "  <tbody>\n",
       "    <tr>\n",
       "      <th>author</th>\n",
       "      <td>0</td>\n",
       "      <td>5552</td>\n",
       "      <td>5288</td>\n",
       "      <td>HSrandom420</td>\n",
       "      <td>6</td>\n",
       "    </tr>\n",
       "    <tr>\n",
       "      <th>title</th>\n",
       "      <td>0</td>\n",
       "      <td>5552</td>\n",
       "      <td>5520</td>\n",
       "      <td>AITA - girl from 5 years ago wants to meet me again but do I look different now?</td>\n",
       "      <td>3</td>\n",
       "    </tr>\n",
       "    <tr>\n",
       "      <th>selftext</th>\n",
       "      <td>0</td>\n",
       "      <td>5552</td>\n",
       "      <td>5536</td>\n",
       "      <td>🔲 me 5 years ago When we dated \\n\\nhttps://m.imgur.com/a/YlAAhlA\\n(3 photo album)\\n\\nhttps://m.imgur.com/a/r8z1Djz (side pic same angle as now pics)\\n\\n\\n\\n🔲now\\n\\nhttps://m.imgur.com/a/U1cqVak\\n(2018) (she’s seen me on this pic tbh)\\n\\nhttps://pasteboard.co/Jpp3CS3.png\\n(2020)\\n\\n\\nhttps://m.imgur.com/a/5WuLvfA (most recent)\\n\\n\\n◾️5 years ago a girl had a crush on me and now she’s messaged m...</td>\n",
       "      <td>3</td>\n",
       "    </tr>\n",
       "    <tr>\n",
       "      <th>subreddit</th>\n",
       "      <td>0</td>\n",
       "      <td>5552</td>\n",
       "      <td>1</td>\n",
       "      <td>AmItheAsshole</td>\n",
       "      <td>5552</td>\n",
       "    </tr>\n",
       "  </tbody>\n",
       "</table>\n",
       "</div>"
      ],
      "text/plain": [
       "           Nulls count unique  \\\n",
       "author         0  5552   5288   \n",
       "title          0  5552   5520   \n",
       "selftext       0  5552   5536   \n",
       "subreddit      0  5552      1   \n",
       "\n",
       "                                                                                                                                                                                                                                                                                                                                                                                                                       top  \\\n",
       "author                                                                                                                                                                                                                                                                                                                                                                                                         HSrandom420   \n",
       "title                                                                                                                                                                                                                                                                                                                                     AITA - girl from 5 years ago wants to meet me again but do I look different now?   \n",
       "selftext   🔲 me 5 years ago When we dated \\n\\nhttps://m.imgur.com/a/YlAAhlA\\n(3 photo album)\\n\\nhttps://m.imgur.com/a/r8z1Djz (side pic same angle as now pics)\\n\\n\\n\\n🔲now\\n\\nhttps://m.imgur.com/a/U1cqVak\\n(2018) (she’s seen me on this pic tbh)\\n\\nhttps://pasteboard.co/Jpp3CS3.png\\n(2020)\\n\\n\\nhttps://m.imgur.com/a/5WuLvfA (most recent)\\n\\n\\n◾️5 years ago a girl had a crush on me and now she’s messaged m...   \n",
       "subreddit                                                                                                                                                                                                                                                                                                                                                                                                    AmItheAsshole   \n",
       "\n",
       "           freq  \n",
       "author        6  \n",
       "title         3  \n",
       "selftext      3  \n",
       "subreddit  5552  "
      ]
     },
     "execution_count": 9,
     "metadata": {},
     "output_type": "execute_result"
    }
   ],
   "source": [
    "drop(ami)"
   ]
  },
  {
   "cell_type": "markdown",
   "metadata": {},
   "source": [
    "As noted when importing that the 'AmITheAsshole' subreddit had alot of [removed] or [deleted] posts that still found their way through, after dropping those rows my 9k long dataframe is now down to 5552 rows."
   ]
  },
  {
   "cell_type": "code",
   "execution_count": 10,
   "metadata": {},
   "outputs": [
    {
     "data": {
      "text/html": [
       "<div>\n",
       "<style scoped>\n",
       "    .dataframe tbody tr th:only-of-type {\n",
       "        vertical-align: middle;\n",
       "    }\n",
       "\n",
       "    .dataframe tbody tr th {\n",
       "        vertical-align: top;\n",
       "    }\n",
       "\n",
       "    .dataframe thead th {\n",
       "        text-align: right;\n",
       "    }\n",
       "</style>\n",
       "<table border=\"1\" class=\"dataframe\">\n",
       "  <thead>\n",
       "    <tr style=\"text-align: right;\">\n",
       "      <th></th>\n",
       "      <th>Nulls</th>\n",
       "      <th>count</th>\n",
       "      <th>unique</th>\n",
       "      <th>top</th>\n",
       "      <th>freq</th>\n",
       "    </tr>\n",
       "  </thead>\n",
       "  <tbody>\n",
       "    <tr>\n",
       "      <th>author</th>\n",
       "      <td>0</td>\n",
       "      <td>6247</td>\n",
       "      <td>3989</td>\n",
       "      <td>preppymedstudents</td>\n",
       "      <td>26</td>\n",
       "    </tr>\n",
       "    <tr>\n",
       "      <th>title</th>\n",
       "      <td>0</td>\n",
       "      <td>6247</td>\n",
       "      <td>6230</td>\n",
       "      <td>Grandmother ordered to delete Facebook photos under GDPR</td>\n",
       "      <td>2</td>\n",
       "    </tr>\n",
       "    <tr>\n",
       "      <th>selftext</th>\n",
       "      <td>0</td>\n",
       "      <td>6247</td>\n",
       "      <td>6235</td>\n",
       "      <td>After all this time living with my parents, I know very well that everything they do, they think of a return, be it a hug or a gift, everything will be used later.\\n\\nShopping has become a nightmare, as I always wonder how it will be used the moment I want to move.\\n\\nI have to be a cold stone, not to show it, my mother tries to make me trust her with secrets and personal things, if I don't sp...</td>\n",
       "      <td>3</td>\n",
       "    </tr>\n",
       "    <tr>\n",
       "      <th>subreddit</th>\n",
       "      <td>0</td>\n",
       "      <td>6247</td>\n",
       "      <td>1</td>\n",
       "      <td>JUSTNOMIL</td>\n",
       "      <td>6247</td>\n",
       "    </tr>\n",
       "  </tbody>\n",
       "</table>\n",
       "</div>"
      ],
      "text/plain": [
       "           Nulls count unique  \\\n",
       "author         0  6247   3989   \n",
       "title          0  6247   6230   \n",
       "selftext       0  6247   6235   \n",
       "subreddit      0  6247      1   \n",
       "\n",
       "                                                                                                                                                                                                                                                                                                                                                                                                                       top  \\\n",
       "author                                                                                                                                                                                                                                                                                                                                                                                                   preppymedstudents   \n",
       "title                                                                                                                                                                                                                                                                                                                                                             Grandmother ordered to delete Facebook photos under GDPR   \n",
       "selftext   After all this time living with my parents, I know very well that everything they do, they think of a return, be it a hug or a gift, everything will be used later.\\n\\nShopping has become a nightmare, as I always wonder how it will be used the moment I want to move.\\n\\nI have to be a cold stone, not to show it, my mother tries to make me trust her with secrets and personal things, if I don't sp...   \n",
       "subreddit                                                                                                                                                                                                                                                                                                                                                                                                        JUSTNOMIL   \n",
       "\n",
       "           freq  \n",
       "author       26  \n",
       "title         2  \n",
       "selftext      3  \n",
       "subreddit  6247  "
      ]
     },
     "execution_count": 10,
     "metadata": {},
     "output_type": "execute_result"
    }
   ],
   "source": [
    "drop(justno)"
   ]
  },
  {
   "cell_type": "code",
   "execution_count": 11,
   "metadata": {},
   "outputs": [
    {
     "data": {
      "text/plain": [
       "author       5\n",
       "title        5\n",
       "selftext     5\n",
       "subreddit    5\n",
       "dtype: int64"
      ]
     },
     "execution_count": 11,
     "metadata": {},
     "output_type": "execute_result"
    }
   ],
   "source": [
    "justno.loc[justno['title'].str.contains('asshole')].count()"
   ]
  },
  {
   "cell_type": "markdown",
   "metadata": {},
   "source": [
    "Looking at the .describe combo once the drop function has been called I no longer have any nulls in both dataframes, next I will combine both dataframes and start removing somes special characters before count vectorizing."
   ]
  },
  {
   "cell_type": "markdown",
   "metadata": {},
   "source": [
    "<a id ='combine'></a>\n",
    "### <center>Combining 'AmITheAsshole' & 'JustNOMIL'</center>\n",
    "\n",
    "![SegmentLocal](https://media.giphy.com/media/P4TqKx6NHyLnO/giphy.gif \"segment\")"
   ]
  },
  {
   "cell_type": "code",
   "execution_count": 12,
   "metadata": {},
   "outputs": [
    {
     "data": {
      "text/plain": [
       "(11799, 4)"
      ]
     },
     "execution_count": 12,
     "metadata": {},
     "output_type": "execute_result"
    }
   ],
   "source": [
    "df = ami.append(justno, ignore_index=True) # ignore index continues the index number from the first df.\n",
    "df.shape"
   ]
  },
  {
   "cell_type": "markdown",
   "metadata": {},
   "source": [
    "#### Removing special characters\n",
    "The two most prominent things I noticed was that the posts contained '\\n' and '.&amp;#x200B;'. I will remove those with str.replace and will look more into what else needs to be removed after count vectorizing."
   ]
  },
  {
   "cell_type": "code",
   "execution_count": 13,
   "metadata": {},
   "outputs": [],
   "source": [
    "df['selftext'] = df['selftext'].str.replace('\\n', ' ') \n",
    "# title had a /n but it was not in the context i needed to remove (yes/no or low/no)"
   ]
  },
  {
   "cell_type": "code",
   "execution_count": 14,
   "metadata": {},
   "outputs": [],
   "source": [
    "df['selftext'] = df['selftext'].str.replace('&amp;#x200B;', ' ')"
   ]
  },
  {
   "cell_type": "code",
   "execution_count": 15,
   "metadata": {},
   "outputs": [
    {
     "data": {
      "text/html": [
       "<div>\n",
       "<style scoped>\n",
       "    .dataframe tbody tr th:only-of-type {\n",
       "        vertical-align: middle;\n",
       "    }\n",
       "\n",
       "    .dataframe tbody tr th {\n",
       "        vertical-align: top;\n",
       "    }\n",
       "\n",
       "    .dataframe thead th {\n",
       "        text-align: right;\n",
       "    }\n",
       "</style>\n",
       "<table border=\"1\" class=\"dataframe\">\n",
       "  <thead>\n",
       "    <tr style=\"text-align: right;\">\n",
       "      <th></th>\n",
       "      <th>author</th>\n",
       "      <th>title</th>\n",
       "      <th>selftext</th>\n",
       "      <th>subreddit</th>\n",
       "    </tr>\n",
       "  </thead>\n",
       "  <tbody>\n",
       "    <tr>\n",
       "      <th>0</th>\n",
       "      <td>Ed4434</td>\n",
       "      <td>AITA for asking my partner to cancel plans with her friend because I wanted to do with her the thing she had planned to do with her friend?</td>\n",
       "      <td>I (26/M) have been dealing with bipolar depression recently and haven't been as cheerful as usual and I know this is taking a toll on my partner (22/F). She has a male friend with whom she spends a lot of time, and I am fine with this. In fact, I encourage her to do so, so that she doesn't feel like she needs to spend all her time with me, lest she get bored or start to resent me.  Yesterday s...</td>\n",
       "      <td>AmItheAsshole</td>\n",
       "    </tr>\n",
       "    <tr>\n",
       "      <th>1</th>\n",
       "      <td>IgorJustSomebody</td>\n",
       "      <td>AITA for lying to my mom about praying and believing in God</td>\n",
       "      <td>So I'm 19M and have issues with my family if you can guess. When I was little, my mom always used to teach me prayers and read Kid's Bible to me (I don't know what this is called or if it exists in English, but it's basically stories from the Bible with illustrations). My mom also made me, well I agreed at that time but she was the person who always pushed me, to be in Church choir. I sung in ...</td>\n",
       "      <td>AmItheAsshole</td>\n",
       "    </tr>\n",
       "    <tr>\n",
       "      <th>2</th>\n",
       "      <td>natalieung</td>\n",
       "      <td>AITA I do not want to invest in home just so I won't potentially get stuck with brother</td>\n",
       "      <td>Hi all, I'm 22 and have been contemplating buying a house but have decided to hold off because I know it would mean I would have to bring my younger siblings along. I currently live with my parents and two younger brothers( 13 and 8 years old). I know if I buy a house now my parents will want to invest in the home and come with me, that's not what I want but I know they will probs force me to ...</td>\n",
       "      <td>AmItheAsshole</td>\n",
       "    </tr>\n",
       "    <tr>\n",
       "      <th>3</th>\n",
       "      <td>RNinlimbo</td>\n",
       "      <td>WIBTA if I didn‘t take my child to see her possibly dying father?</td>\n",
       "      <td>My ex husband left my daughter and I when she was 10 months old and now she’s 4. He hasn’t seen her or made a real effort to do so. He hasn’t paid child support and the most he has done was send a few selfies here and there. I have been going minimal contact with him because it always seems like he just wants to fight through text messages.  I’ve moved on and my daughter knows about her father...</td>\n",
       "      <td>AmItheAsshole</td>\n",
       "    </tr>\n",
       "    <tr>\n",
       "      <th>4</th>\n",
       "      <td>anonym-name</td>\n",
       "      <td>AITA for telling my partner's friend I'll kick him out if he brings marijuana to my apartment</td>\n",
       "      <td>This involves me (25M) my partner (27M) and his friend (26M).  So marijuana, weed whatever you want to call it is illegal to own and consume in our country. Despite that I do know that many people use it such as my partner's friend and when they're hanging out together, my partner sometimes smokes too.  I don't really approve but I know it's not as bad as other drugs, so I don't tell my partne...</td>\n",
       "      <td>AmItheAsshole</td>\n",
       "    </tr>\n",
       "  </tbody>\n",
       "</table>\n",
       "</div>"
      ],
      "text/plain": [
       "             author  \\\n",
       "0            Ed4434   \n",
       "1  IgorJustSomebody   \n",
       "2        natalieung   \n",
       "3         RNinlimbo   \n",
       "4       anonym-name   \n",
       "\n",
       "                                                                                                                                         title  \\\n",
       "0  AITA for asking my partner to cancel plans with her friend because I wanted to do with her the thing she had planned to do with her friend?   \n",
       "1                                                                                  AITA for lying to my mom about praying and believing in God   \n",
       "2                                                      AITA I do not want to invest in home just so I won't potentially get stuck with brother   \n",
       "3                                                                            WIBTA if I didn‘t take my child to see her possibly dying father?   \n",
       "4                                                AITA for telling my partner's friend I'll kick him out if he brings marijuana to my apartment   \n",
       "\n",
       "                                                                                                                                                                                                                                                                                                                                                                                                          selftext  \\\n",
       "0  I (26/M) have been dealing with bipolar depression recently and haven't been as cheerful as usual and I know this is taking a toll on my partner (22/F). She has a male friend with whom she spends a lot of time, and I am fine with this. In fact, I encourage her to do so, so that she doesn't feel like she needs to spend all her time with me, lest she get bored or start to resent me.  Yesterday s...   \n",
       "1  So I'm 19M and have issues with my family if you can guess. When I was little, my mom always used to teach me prayers and read Kid's Bible to me (I don't know what this is called or if it exists in English, but it's basically stories from the Bible with illustrations). My mom also made me, well I agreed at that time but she was the person who always pushed me, to be in Church choir. I sung in ...   \n",
       "2  Hi all, I'm 22 and have been contemplating buying a house but have decided to hold off because I know it would mean I would have to bring my younger siblings along. I currently live with my parents and two younger brothers( 13 and 8 years old). I know if I buy a house now my parents will want to invest in the home and come with me, that's not what I want but I know they will probs force me to ...   \n",
       "3  My ex husband left my daughter and I when she was 10 months old and now she’s 4. He hasn’t seen her or made a real effort to do so. He hasn’t paid child support and the most he has done was send a few selfies here and there. I have been going minimal contact with him because it always seems like he just wants to fight through text messages.  I’ve moved on and my daughter knows about her father...   \n",
       "4  This involves me (25M) my partner (27M) and his friend (26M).  So marijuana, weed whatever you want to call it is illegal to own and consume in our country. Despite that I do know that many people use it such as my partner's friend and when they're hanging out together, my partner sometimes smokes too.  I don't really approve but I know it's not as bad as other drugs, so I don't tell my partne...   \n",
       "\n",
       "       subreddit  \n",
       "0  AmItheAsshole  \n",
       "1  AmItheAsshole  \n",
       "2  AmItheAsshole  \n",
       "3  AmItheAsshole  \n",
       "4  AmItheAsshole  "
      ]
     },
     "execution_count": 15,
     "metadata": {},
     "output_type": "execute_result"
    }
   ],
   "source": [
    "df.head()"
   ]
  },
  {
   "cell_type": "markdown",
   "metadata": {},
   "source": [
    "### Visualizing the number of words used per subreddit"
   ]
  },
  {
   "cell_type": "code",
   "execution_count": 16,
   "metadata": {},
   "outputs": [],
   "source": [
    "df['post_word_count'] = [len(word.split()) for word in df['selftext']] # number of words in post\n",
    "df['title_word_count'] = [len(word.split()) for word in df['title']] # number of words in title"
   ]
  },
  {
   "cell_type": "code",
   "execution_count": 17,
   "metadata": {},
   "outputs": [
    {
     "data": {
      "text/html": [
       "<div>\n",
       "<style scoped>\n",
       "    .dataframe tbody tr th:only-of-type {\n",
       "        vertical-align: middle;\n",
       "    }\n",
       "\n",
       "    .dataframe tbody tr th {\n",
       "        vertical-align: top;\n",
       "    }\n",
       "\n",
       "    .dataframe thead th {\n",
       "        text-align: right;\n",
       "    }\n",
       "</style>\n",
       "<table border=\"1\" class=\"dataframe\">\n",
       "  <thead>\n",
       "    <tr style=\"text-align: right;\">\n",
       "      <th></th>\n",
       "      <th>title_word_count</th>\n",
       "      <th>post_word_count</th>\n",
       "    </tr>\n",
       "    <tr>\n",
       "      <th>subreddit</th>\n",
       "      <th></th>\n",
       "      <th></th>\n",
       "    </tr>\n",
       "  </thead>\n",
       "  <tbody>\n",
       "    <tr>\n",
       "      <th>AmItheAsshole</th>\n",
       "      <td>12.0</td>\n",
       "      <td>330.0</td>\n",
       "    </tr>\n",
       "    <tr>\n",
       "      <th>JUSTNOMIL</th>\n",
       "      <td>9.0</td>\n",
       "      <td>547.0</td>\n",
       "    </tr>\n",
       "  </tbody>\n",
       "</table>\n",
       "</div>"
      ],
      "text/plain": [
       "               title_word_count  post_word_count\n",
       "subreddit                                       \n",
       "AmItheAsshole              12.0            330.0\n",
       "JUSTNOMIL                   9.0            547.0"
      ]
     },
     "execution_count": 17,
     "metadata": {},
     "output_type": "execute_result"
    }
   ],
   "source": [
    "df.groupby('subreddit')[['title_word_count', 'post_word_count']].mean().round()"
   ]
  },
  {
   "cell_type": "markdown",
   "metadata": {},
   "source": [
    "Looking at the title and word count, I can see that the users in AMITheAsshole subreddit have longer titles, but shorter posts compared to JustNOMIL who is the oposite, with generally shorter titles but longer posts. "
   ]
  },
  {
   "cell_type": "code",
   "execution_count": 18,
   "metadata": {},
   "outputs": [],
   "source": [
    "# 2 tables to get the visualization going\n",
    "ami_c = df.loc[df['subreddit'] == 'AmItheAsshole']\n",
    "justno_c = df.loc[df['subreddit'] == 'JUSTNOMIL'] "
   ]
  },
  {
   "cell_type": "code",
   "execution_count": 19,
   "metadata": {},
   "outputs": [
    {
     "data": {
      "image/png": "[encoded data removed]",
      "text/plain": [
       "<Figure size 936x576 with 1 Axes>"
      ]
     },
     "metadata": {
      "needs_background": "light"
     },
     "output_type": "display_data"
    }
   ],
   "source": [
    "plt.figure(figsize = (13,8))\n",
    "sns.distplot(ami_c['post_word_count'], label = 'AmITheAsshole', color ='green', kde=False)\n",
    "sns.distplot(justno_c['post_word_count'], label = 'JustNOMIL',  kde=False);\n",
    "\n",
    "plt.title('Word Count Distribution by Subreddit', size =30, color ='#FF4500', weight='bold')\n",
    "plt.xlabel('Word Count', size = 20)\n",
    "plt.legend(fontsize=15);\n",
    "plt.savefig('./visuals/word_count.png', transparent=True, bbox_inches='tight')"
   ]
  },
  {
   "cell_type": "markdown",
   "metadata": {},
   "source": [
    "### Visualizing the number of unique users per subreddit "
   ]
  },
  {
   "cell_type": "code",
   "execution_count": 20,
   "metadata": {},
   "outputs": [
    {
     "data": {
      "image/png": "[encoded data removed]",
      "text/plain": [
       "<Figure size 720x432 with 1 Axes>"
      ]
     },
     "metadata": {
      "needs_background": "light"
     },
     "output_type": "display_data"
    }
   ],
   "source": [
    "plt.figure(figsize=(10,6))\n",
    "\n",
    "unique_users = df.groupby('subreddit')['author'].nunique()\n",
    "ax = unique_users.plot(kind='bar', color=\"#336699\", fontsize=13);\n",
    "ax.set_title(\"Unique Users per Subreddit\",  size =30, color ='#FF4500', weight='bold')\n",
    "plt.xticks(rotation=0) # this plot wa making the words go at 90 degree, had to fix\n",
    "ax.set_ylabel(\"Unique User Count\", fontsize=15)\n",
    "ax.set_xlabel(\"Subreddit\", fontsize=15)\n",
    "plt.savefig('./visuals/unique_count.png', transparent=True,)\n",
    "plt.show()\n"
   ]
  },
  {
   "cell_type": "markdown",
   "metadata": {},
   "source": [
    "Before I continue I need to make a dummy column for the subreddit types.\n",
    "- 1 : AmITheAsshole\n",
    "- 2 : JustNOMIL"
   ]
  },
  {
   "cell_type": "code",
   "execution_count": 21,
   "metadata": {},
   "outputs": [],
   "source": [
    "df['sub_reddit'] = df['subreddit'].map({'AmItheAsshole' : 1, 'JUSTNOMIL' : 0}) # new subreddit column with 0 and 1"
   ]
  },
  {
   "cell_type": "code",
   "execution_count": 22,
   "metadata": {},
   "outputs": [],
   "source": [
    "df.drop('subreddit', axis=1, inplace=True) # dropping original subreddit column (reason below)"
   ]
  },
  {
   "cell_type": "markdown",
   "metadata": {},
   "source": [
    "I also want to see how many users have posted in both subreddits to help me decide if I will use author in my models"
   ]
  },
  {
   "cell_type": "code",
   "execution_count": 23,
   "metadata": {},
   "outputs": [
    {
     "name": "stdout",
     "output_type": "stream",
     "text": [
      "Out of 11799, there are 55 users that posts in both subreddits\n"
     ]
    }
   ],
   "source": [
    "common = pd.merge(ami, justno, how='inner', on=['author'])\n",
    "print(f'Out of {df.shape[0]}, there are {common.shape[0]} users that posts in both subreddits') "
   ]
  },
  {
   "cell_type": "markdown",
   "metadata": {},
   "source": [
    "Based on this I will not use the author names, as the model might become too depended on this column in it's predictions"
   ]
  },
  {
   "cell_type": "markdown",
   "metadata": {},
   "source": [
    "<a id = 'count'> </a>\n",
    "## COUNT VECTORIZER EDA\n",
    "I am going to do some EDA on the Count Vectorizer, the purpose is so that I can figure out what additional words I need to add to the stop words. \n",
    "- These are my findings during my EDA:\n",
    "    - I could not concat and iterate through the subreddit column, because the word subreddit showed up in the text, I have adjusted above to say sub_reddit instead.\n",
    "    - MIL, AITA, WIBTA might need to be added to stop words to prevent too strong of a dependency"
   ]
  },
  {
   "cell_type": "code",
   "execution_count": 24,
   "metadata": {},
   "outputs": [],
   "source": [
    "cv = CountVectorizer( analyzer = 'word',\n",
    "                     lowercase = False) # lowercase= False will still allow stop_words to come up, but I need to see this for now\n",
    "\n",
    "feat = cv.fit_transform(df['title'] + df['selftext']) # the 2 columns to vectorize"
   ]
  },
  {
   "cell_type": "code",
   "execution_count": 25,
   "metadata": {},
   "outputs": [],
   "source": [
    "word_cv = pd.DataFrame(feat.toarray(), columns= cv.get_feature_names()) # creating a dataframe\n",
    "word_cv = pd.concat([word_cv, df.iloc[:, -1:]], axis =1) # concatinating the subreddits to the count vectorizer for EDA"
   ]
  },
  {
   "cell_type": "code",
   "execution_count": 26,
   "metadata": {},
   "outputs": [
    {
     "data": {
      "text/html": [
       "<div>\n",
       "<style scoped>\n",
       "    .dataframe tbody tr th:only-of-type {\n",
       "        vertical-align: middle;\n",
       "    }\n",
       "\n",
       "    .dataframe tbody tr th {\n",
       "        vertical-align: top;\n",
       "    }\n",
       "\n",
       "    .dataframe thead th {\n",
       "        text-align: right;\n",
       "    }\n",
       "</style>\n",
       "<table border=\"1\" class=\"dataframe\">\n",
       "  <thead>\n",
       "    <tr style=\"text-align: right;\">\n",
       "      <th></th>\n",
       "      <th>00</th>\n",
       "      <th>000</th>\n",
       "      <th>000AUD</th>\n",
       "      <th>000km</th>\n",
       "      <th>005</th>\n",
       "      <th>00PM</th>\n",
       "      <th>00am</th>\n",
       "      <th>00ish</th>\n",
       "      <th>00pm</th>\n",
       "      <th>01</th>\n",
       "      <th>...</th>\n",
       "      <th>𝘸𝘢𝘯𝘵</th>\n",
       "      <th>𝘸𝘢𝘴</th>\n",
       "      <th>𝘸𝘦𝘯𝘵</th>\n",
       "      <th>𝘸𝘩𝘦𝘳𝘦</th>\n",
       "      <th>𝘸𝘩𝘰</th>\n",
       "      <th>𝘸𝘪𝘥𝘦</th>\n",
       "      <th>𝘸𝘰𝘯</th>\n",
       "      <th>𝘸𝘰𝘳𝘬</th>\n",
       "      <th>𝘺𝘰𝘶</th>\n",
       "      <th>sub_reddit</th>\n",
       "    </tr>\n",
       "  </thead>\n",
       "  <tbody>\n",
       "    <tr>\n",
       "      <th>0</th>\n",
       "      <td>0</td>\n",
       "      <td>0</td>\n",
       "      <td>0</td>\n",
       "      <td>0</td>\n",
       "      <td>0</td>\n",
       "      <td>0</td>\n",
       "      <td>0</td>\n",
       "      <td>0</td>\n",
       "      <td>0</td>\n",
       "      <td>0</td>\n",
       "      <td>...</td>\n",
       "      <td>0</td>\n",
       "      <td>0</td>\n",
       "      <td>0</td>\n",
       "      <td>0</td>\n",
       "      <td>0</td>\n",
       "      <td>0</td>\n",
       "      <td>0</td>\n",
       "      <td>0</td>\n",
       "      <td>0</td>\n",
       "      <td>1</td>\n",
       "    </tr>\n",
       "    <tr>\n",
       "      <th>1</th>\n",
       "      <td>0</td>\n",
       "      <td>0</td>\n",
       "      <td>0</td>\n",
       "      <td>0</td>\n",
       "      <td>0</td>\n",
       "      <td>0</td>\n",
       "      <td>0</td>\n",
       "      <td>0</td>\n",
       "      <td>0</td>\n",
       "      <td>0</td>\n",
       "      <td>...</td>\n",
       "      <td>0</td>\n",
       "      <td>0</td>\n",
       "      <td>0</td>\n",
       "      <td>0</td>\n",
       "      <td>0</td>\n",
       "      <td>0</td>\n",
       "      <td>0</td>\n",
       "      <td>0</td>\n",
       "      <td>0</td>\n",
       "      <td>1</td>\n",
       "    </tr>\n",
       "    <tr>\n",
       "      <th>2</th>\n",
       "      <td>0</td>\n",
       "      <td>0</td>\n",
       "      <td>0</td>\n",
       "      <td>0</td>\n",
       "      <td>0</td>\n",
       "      <td>0</td>\n",
       "      <td>0</td>\n",
       "      <td>0</td>\n",
       "      <td>0</td>\n",
       "      <td>0</td>\n",
       "      <td>...</td>\n",
       "      <td>0</td>\n",
       "      <td>0</td>\n",
       "      <td>0</td>\n",
       "      <td>0</td>\n",
       "      <td>0</td>\n",
       "      <td>0</td>\n",
       "      <td>0</td>\n",
       "      <td>0</td>\n",
       "      <td>0</td>\n",
       "      <td>1</td>\n",
       "    </tr>\n",
       "    <tr>\n",
       "      <th>3</th>\n",
       "      <td>0</td>\n",
       "      <td>0</td>\n",
       "      <td>0</td>\n",
       "      <td>0</td>\n",
       "      <td>0</td>\n",
       "      <td>0</td>\n",
       "      <td>0</td>\n",
       "      <td>0</td>\n",
       "      <td>0</td>\n",
       "      <td>0</td>\n",
       "      <td>...</td>\n",
       "      <td>0</td>\n",
       "      <td>0</td>\n",
       "      <td>0</td>\n",
       "      <td>0</td>\n",
       "      <td>0</td>\n",
       "      <td>0</td>\n",
       "      <td>0</td>\n",
       "      <td>0</td>\n",
       "      <td>0</td>\n",
       "      <td>1</td>\n",
       "    </tr>\n",
       "    <tr>\n",
       "      <th>4</th>\n",
       "      <td>0</td>\n",
       "      <td>0</td>\n",
       "      <td>0</td>\n",
       "      <td>0</td>\n",
       "      <td>0</td>\n",
       "      <td>0</td>\n",
       "      <td>0</td>\n",
       "      <td>0</td>\n",
       "      <td>0</td>\n",
       "      <td>0</td>\n",
       "      <td>...</td>\n",
       "      <td>0</td>\n",
       "      <td>0</td>\n",
       "      <td>0</td>\n",
       "      <td>0</td>\n",
       "      <td>0</td>\n",
       "      <td>0</td>\n",
       "      <td>0</td>\n",
       "      <td>0</td>\n",
       "      <td>0</td>\n",
       "      <td>1</td>\n",
       "    </tr>\n",
       "  </tbody>\n",
       "</table>\n",
       "<p>5 rows × 54956 columns</p>\n",
       "</div>"
      ],
      "text/plain": [
       "   00  000  000AUD  000km  005  00PM  00am  00ish  00pm  01  ...  𝘸𝘢𝘯𝘵  𝘸𝘢𝘴  \\\n",
       "0   0    0       0      0    0     0     0      0     0   0  ...     0    0   \n",
       "1   0    0       0      0    0     0     0      0     0   0  ...     0    0   \n",
       "2   0    0       0      0    0     0     0      0     0   0  ...     0    0   \n",
       "3   0    0       0      0    0     0     0      0     0   0  ...     0    0   \n",
       "4   0    0       0      0    0     0     0      0     0   0  ...     0    0   \n",
       "\n",
       "   𝘸𝘦𝘯𝘵  𝘸𝘩𝘦𝘳𝘦  𝘸𝘩𝘰  𝘸𝘪𝘥𝘦  𝘸𝘰𝘯  𝘸𝘰𝘳𝘬  𝘺𝘰𝘶  sub_reddit  \n",
       "0     0      0    0     0    0     0    0           1  \n",
       "1     0      0    0     0    0     0    0           1  \n",
       "2     0      0    0     0    0     0    0           1  \n",
       "3     0      0    0     0    0     0    0           1  \n",
       "4     0      0    0     0    0     0    0           1  \n",
       "\n",
       "[5 rows x 54956 columns]"
      ]
     },
     "execution_count": 26,
     "metadata": {},
     "output_type": "execute_result"
    }
   ],
   "source": [
    "word_cv.head()"
   ]
  },
  {
   "cell_type": "code",
   "execution_count": 27,
   "metadata": {},
   "outputs": [],
   "source": [
    "# I'll reuse part of a function I made in my NLP lab, to get a count of how many capitalized words each subreddit used.\n",
    "cap_count = []\n",
    "\n",
    "def cap_words(val):\n",
    "    df = pd.DataFrame(word_cv.loc[word_cv['sub_reddit'] == val]) # based on subreddit\n",
    "    count_upper = df.iloc[:,:-1][[col for col in df if col.isupper()]].sum().sum() # give a total count of how many words with all caps\n",
    "    cap_count.append(count_upper) # append to empty list for visuals\n",
    "   "
   ]
  },
  {
   "cell_type": "code",
   "execution_count": 28,
   "metadata": {},
   "outputs": [],
   "source": [
    "cap_words(1) #AMI\n",
    "cap_words(0) #JUSTNO"
   ]
  },
  {
   "cell_type": "code",
   "execution_count": 29,
   "metadata": {},
   "outputs": [
    {
     "data": {
      "text/plain": [
       "[19830, 71839]"
      ]
     },
     "execution_count": 29,
     "metadata": {},
     "output_type": "execute_result"
    }
   ],
   "source": [
    "cap_count"
   ]
  },
  {
   "cell_type": "code",
   "execution_count": 30,
   "metadata": {},
   "outputs": [
    {
     "data": {
      "image/png": "[encoded data removed]",
      "text/plain": [
       "<Figure size 720x432 with 1 Axes>"
      ]
     },
     "metadata": {
      "needs_background": "light"
     },
     "output_type": "display_data"
    }
   ],
   "source": [
    "plt.figure(figsize=(10,6))\n",
    "\n",
    "r = [0,1]\n",
    "color = [\"#336699\", '#FF5700']\n",
    "\n",
    "sns.barplot(r, cap_count, palette= color)\n",
    "\n",
    "plt.xticks(r, ['AMItheAsshole','JustNOMIL'])\n",
    "plt.xlabel(\"Subreddits\", size =13)\n",
    "plt.title('How Angry Are The Users?', size =30, color ='#FF4500', weight='bold');\n",
    "plt.savefig('./visuals/caps_count.png', transparent=True, bbox_inches='tight')"
   ]
  },
  {
   "cell_type": "markdown",
   "metadata": {},
   "source": [
    "Users in the JustNOMIL subreddit use alot more capitalized letters than those in the AMITheAsshole subreddit, which makes sense, because those posting in MIL are venting their frustration, compared to those posting in AMI who are looking for perspective and validation."
   ]
  },
  {
   "cell_type": "markdown",
   "metadata": {},
   "source": [
    "#### Re-Instantiating CountVectorizer\n",
    "This time with stopwords to get an idea of the most frequent words (using stopwords and lowercase=False voids the stopwords)"
   ]
  },
  {
   "cell_type": "code",
   "execution_count": 31,
   "metadata": {},
   "outputs": [],
   "source": [
    "# Doing it again, this time with stopwords\n",
    "cv = CountVectorizer( analyzer = 'word',\n",
    "                     stop_words = 'english') # lowercase= False will still allow stop_words to come up, but I need to see this for now\n",
    "\n",
    "feat = cv.fit_transform(df['title'] + df['selftext']) # the 2 columns to vectorize\n",
    "\n",
    "word_cv = pd.DataFrame(feat.toarray(), columns= cv.get_feature_names()) # creating a dataframe\n"
   ]
  },
  {
   "cell_type": "code",
   "execution_count": 32,
   "metadata": {},
   "outputs": [
    {
     "data": {
      "image/png": "[encoded data removed]",
      "text/plain": [
       "<Figure size 1080x576 with 1 Axes>"
      ]
     },
     "metadata": {
      "needs_background": "light"
     },
     "output_type": "display_data"
    }
   ],
   "source": [
    "plt.figure(figsize=(15,8))\n",
    "word_cv.sum().sort_values(ascending=False).head(15).plot(kind='bar', color= '#62A7A4')\n",
    "plt.xticks(fontsize=15)\n",
    "plt.yticks(fontsize=15)\n",
    "plt.title('Most Common Words in Titles & Posts', size =30, color ='#FF4500', weight='bold');\n",
    "plt.savefig('./visuals/top_words_cv.png', transparent=True, bbox_inches='tight')"
   ]
  },
  {
   "cell_type": "markdown",
   "metadata": {},
   "source": [
    "<a id='save'></a>\n",
    "## SAVE\n",
    "I'll save the combine dataframe only for now and not the CountVectorizer, in the next note book I will re-\n",
    "CountVectorize with the proper stopwords and making all columns lower case so the stop words are considered."
   ]
  },
  {
   "cell_type": "code",
   "execution_count": 33,
   "metadata": {},
   "outputs": [],
   "source": [
    "# Saving the changes as they are now\n",
    "df.to_pickle('./data/cleaned_combined.pkl')"
   ]
  }
 ],
 "metadata": {
  "kernelspec": {
   "display_name": "Python 3",
   "language": "python",
   "name": "python3"
  },
  "language_info": {
   "codemirror_mode": {
    "name": "ipython",
    "version": 3
   },
   "file_extension": ".py",
   "mimetype": "text/x-python",
   "name": "python",
   "nbconvert_exporter": "python",
   "pygments_lexer": "ipython3",
   "version": "3.8.3"
  }
 },
 "nbformat": 4,
 "nbformat_minor": 4
}
